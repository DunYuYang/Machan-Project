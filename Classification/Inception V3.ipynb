{
 "cells": [
  {
   "cell_type": "code",
   "execution_count": 1,
   "metadata": {},
   "outputs": [
    {
     "name": "stderr",
     "output_type": "stream",
     "text": [
      "Using TensorFlow backend.\n"
     ]
    }
   ],
   "source": [
    "from keras.preprocessing.image import ImageDataGenerator\n",
    "from keras.applications.inception_v3 import InceptionV3,preprocess_input\n",
    "from keras.layers import GlobalAveragePooling2D,Dense\n",
    "from keras.models import Model\n",
    "from keras.utils.vis_utils import plot_model\n",
    "from keras.optimizers import Adagrad\n",
    "# 数据准备\n",
    "train_datagen = ImageDataGenerator(\n",
    "    preprocessing_function=preprocess_input,# ((x/255)-0.5)*2  归一化到±1之间\n",
    "    rotation_range=30,\n",
    "    width_shift_range=0.2,\n",
    "    height_shift_range=0.2,\n",
    "    shear_range=0.2,\n",
    "    zoom_range=0.2,\n",
    "    horizontal_flip=True,\n",
    ")\n",
    "val_datagen = ImageDataGenerator(\n",
    "    preprocessing_function=preprocess_input,\n",
    "    rotation_range=30,\n",
    "    width_shift_range=0.2,\n",
    "    height_shift_range=0.2,\n",
    "    shear_range=0.2,\n",
    "    zoom_range=0.2,\n",
    "    horizontal_flip=True,\n",
    ")"
   ]
  },
  {
   "cell_type": "markdown",
   "metadata": {},
   "source": [
    "这里用到的数据集和之前都不同，之前用的是一些公共的、Keras内置的数据集，这次用到的是自己准备的数据集。由于数据的图像大小比较大，不适合一次全部载入到内存中，所以使用了flow_from_directory方法来按批次从硬盘读取图像数据，并实时进行图像增强"
   ]
  },
  {
   "cell_type": "code",
   "execution_count": 2,
   "metadata": {},
   "outputs": [
    {
     "name": "stdout",
     "output_type": "stream",
     "text": [
      "Found 1920 images belonging to 2 classes.\n",
      "Found 640 images belonging to 2 classes.\n"
     ]
    }
   ],
   "source": [
    "# 資料路徑\n",
    "DATASET_PATH  = r'C:\\Users\\user\\程式碼_明昌瑕疵檢測\\影像辨識\\Machan Dataset'\n",
    "\n",
    "# 影像大小\n",
    "IMAGE_SIZE = (299,299)\n",
    "\n",
    "# 影像類別數\n",
    "NUM_CLASSES = 2\n",
    "\n",
    "# 若 GPU 記憶體不足，可調降 batch size 或凍結更多層網路\n",
    "BATCH_SIZE = 10\n",
    "\n",
    "\n",
    "\n",
    "# 模型輸出儲存的檔案\n",
    "WEIGHTS_FINAL = 'model-Inception_V3-final.h5'\n",
    "\n",
    "\n",
    "\n",
    "train_generator = train_datagen.flow_from_directory(DATASET_PATH + '/train',\n",
    "                                  target_size=IMAGE_SIZE,#Inception V3规定大小\n",
    "                                  batch_size=BATCH_SIZE)\n",
    "val_generator = val_datagen.flow_from_directory(DATASET_PATH + '/validation',\n",
    "                                  target_size=IMAGE_SIZE,\n",
    "                                  batch_size=BATCH_SIZE)"
   ]
  },
  {
   "cell_type": "markdown",
   "metadata": {},
   "source": [
    "首先我们需要加载骨架模型，这里用的InceptionV3模型，其两个参数比较重要，一个是weights，如果是'imagenet',Keras就会自动下载已经在ImageNet上训练好的参数，如果是None，系统会通过随机的方式初始化参数，目前该参数只有这两个选择。另一个参数是include_top，如果是True，输出是1000个节点的全连接层。如果是False，会去掉顶层，输出一个8 \\* 8 \\* 2048的张量。 \n",
    "\n",
    "ps：在keras.applications里还有很多其他的预置模型，比如VGG，ResNet，以及适用于移动端的MobileNet等。大家都可以拿来玩玩。\n",
    "\n",
    "一般我们做迁移训练，都是要去掉顶层，后面接上各种自定义的其它新层。这已经成为了训练新任务惯用的套路。\n",
    "输出层先用GlobalAveragePooling2D函数将8 \\* 8 \\* 2048的输出转换成1 \\* 2048的张量。后面接了一个1024个节点的全连接层，最后是一个17个节点的输出层，用softmax激活函数。"
   ]
  },
  {
   "cell_type": "code",
   "execution_count": 3,
   "metadata": {},
   "outputs": [
    {
     "name": "stderr",
     "output_type": "stream",
     "text": [
      "WARNING: Logging before flag parsing goes to stderr.\n",
      "W0913 16:57:43.116146 18400 deprecation_wrapper.py:119] From C:\\Users\\user\\Anaconda3\\lib\\site-packages\\keras\\backend\\tensorflow_backend.py:74: The name tf.get_default_graph is deprecated. Please use tf.compat.v1.get_default_graph instead.\n",
      "\n",
      "W0913 16:57:43.140067 18400 deprecation_wrapper.py:119] From C:\\Users\\user\\Anaconda3\\lib\\site-packages\\keras\\backend\\tensorflow_backend.py:517: The name tf.placeholder is deprecated. Please use tf.compat.v1.placeholder instead.\n",
      "\n",
      "W0913 16:57:43.150724 18400 deprecation_wrapper.py:119] From C:\\Users\\user\\Anaconda3\\lib\\site-packages\\keras\\backend\\tensorflow_backend.py:4138: The name tf.random_uniform is deprecated. Please use tf.random.uniform instead.\n",
      "\n",
      "W0913 16:57:43.212095 18400 deprecation_wrapper.py:119] From C:\\Users\\user\\Anaconda3\\lib\\site-packages\\keras\\backend\\tensorflow_backend.py:174: The name tf.get_default_session is deprecated. Please use tf.compat.v1.get_default_session instead.\n",
      "\n",
      "W0913 16:57:43.213126 18400 deprecation_wrapper.py:119] From C:\\Users\\user\\Anaconda3\\lib\\site-packages\\keras\\backend\\tensorflow_backend.py:181: The name tf.ConfigProto is deprecated. Please use tf.compat.v1.ConfigProto instead.\n",
      "\n",
      "W0913 16:57:44.844826 18400 deprecation_wrapper.py:119] From C:\\Users\\user\\Anaconda3\\lib\\site-packages\\keras\\backend\\tensorflow_backend.py:1834: The name tf.nn.fused_batch_norm is deprecated. Please use tf.compat.v1.nn.fused_batch_norm instead.\n",
      "\n",
      "W0913 16:57:45.337956 18400 deprecation_wrapper.py:119] From C:\\Users\\user\\Anaconda3\\lib\\site-packages\\keras\\backend\\tensorflow_backend.py:3976: The name tf.nn.max_pool is deprecated. Please use tf.nn.max_pool2d instead.\n",
      "\n",
      "W0913 16:57:46.860101 18400 deprecation_wrapper.py:119] From C:\\Users\\user\\Anaconda3\\lib\\site-packages\\keras\\backend\\tensorflow_backend.py:3980: The name tf.nn.avg_pool is deprecated. Please use tf.nn.avg_pool2d instead.\n",
      "\n"
     ]
    }
   ],
   "source": [
    "# 构建基础模型\n",
    "base_model = InceptionV3(weights='imagenet',include_top=False)\n",
    "\n",
    "# 增加新的输出层\n",
    "x = base_model.output\n",
    "x = GlobalAveragePooling2D()(x) # GlobalAveragePooling2D 将 MxNxC 的张量转换成 1xC 张量，C是通道数\n",
    "x = Dense(1024,activation='relu')(x)\n",
    "predictions = Dense(2,activation='softmax')(x)\n",
    "model = Model(inputs=base_model.input,outputs=predictions)\n",
    "# plot_model(model,'tlmodel.png')"
   ]
  },
  {
   "cell_type": "markdown",
   "metadata": {},
   "source": [
    "构建完新模型后需要进行模型的配置。下面的两个函数分别对transfer learning和fine tune两种方法分别进行了配置。每个函数有两个参数，分别是model和base_model。这里可能会有同学有疑问，上面定义了model，这里又将base_model一起做配置，对base_model的更改会对model产生影响么？  \n",
    "答案是会的。如果你debug追进去看的话，可以看到model的第一层和base_model的第一层是指向同一个内存地址的。这里将base_model作为参数，只是为了方便对骨架模型进行设置。\n",
    "\n",
    "setup_to_transfer_learning： 这个函数将骨架模型的所有层都设置为不可训练\n",
    "setup_to_fine_tune：这个函数将骨架模型中的前几层设置为不可训练，后面的所有Inception模块都设置为可训练。  \n",
    "这里面的GAP_LAYER需要配合打印图和调试的方法确认正确的值，感兴趣具体怎么操作的同学，可以私信我，以后看有没有必要把这个点写成教程。"
   ]
  },
  {
   "cell_type": "code",
   "execution_count": 4,
   "metadata": {},
   "outputs": [],
   "source": [
    "'''\n",
    "这里的base_model和model里面的iv3都指向同一个地址\n",
    "'''\n",
    "def setup_to_transfer_learning(model,base_model):#base_model\n",
    "    for layer in base_model.layers:\n",
    "        layer.trainable = False\n",
    "    model.compile(optimizer='adam',loss='categorical_crossentropy',metrics=['accuracy'])\n",
    "\n",
    "#def setup_to_fine_tune(model,base_model):\n",
    "#    for layer in base_model.layers[:172]:\n",
    "#        layer.trainable = False\n",
    "#    for layer in base_model.layers[172:]:\n",
    "#        layer.trainable = True\n",
    "#    model.compile(optimizer=Adagrad(lr=0.00001),loss='binary_crossentropy',metrics=['accuracy'])"
   ]
  },
  {
   "cell_type": "markdown",
   "metadata": {},
   "source": [
    "下面开始训练，这段代码也演示了如何在全部训练过程中改变模型。"
   ]
  },
  {
   "cell_type": "code",
   "execution_count": 5,
   "metadata": {},
   "outputs": [
    {
     "name": "stderr",
     "output_type": "stream",
     "text": [
      "W0913 16:58:10.577016 18400 deprecation_wrapper.py:119] From C:\\Users\\user\\Anaconda3\\lib\\site-packages\\keras\\optimizers.py:790: The name tf.train.Optimizer is deprecated. Please use tf.compat.v1.train.Optimizer instead.\n",
      "\n",
      "W0913 16:58:10.809477 18400 deprecation.py:323] From C:\\Users\\user\\Anaconda3\\lib\\site-packages\\tensorflow\\python\\ops\\math_grad.py:1250: add_dispatch_support.<locals>.wrapper (from tensorflow.python.ops.array_ops) is deprecated and will be removed in a future version.\n",
      "Instructions for updating:\n",
      "Use tf.where in 2.0, which has the same broadcast rule as np.where\n"
     ]
    },
    {
     "name": "stdout",
     "output_type": "stream",
     "text": [
      "Epoch 1/10\n",
      "800/800 [==============================] - 373s 466ms/step - loss: 0.2004 - acc: 0.9260 - val_loss: 0.3715 - val_acc: 0.8333\n",
      "Epoch 2/10\n",
      "800/800 [==============================] - 364s 455ms/step - loss: 0.1114 - acc: 0.9609 - val_loss: 0.2439 - val_acc: 0.9250\n",
      "Epoch 3/10\n",
      "800/800 [==============================] - 366s 457ms/step - loss: 0.1065 - acc: 0.9610 - val_loss: 0.4628 - val_acc: 0.8667\n",
      "Epoch 4/10\n",
      "800/800 [==============================] - 366s 457ms/step - loss: 0.0862 - acc: 0.9676 - val_loss: 0.7061 - val_acc: 0.8000\n",
      "Epoch 5/10\n",
      "800/800 [==============================] - 365s 456ms/step - loss: 0.1046 - acc: 0.9611 - val_loss: 0.4113 - val_acc: 0.8583\n",
      "Epoch 6/10\n",
      "800/800 [==============================] - 363s 453ms/step - loss: 0.0744 - acc: 0.9724 - val_loss: 0.1577 - val_acc: 0.9417\n",
      "Epoch 7/10\n",
      "800/800 [==============================] - 194s 243ms/step - loss: 0.0654 - acc: 0.9764 - val_loss: 0.3921 - val_acc: 0.8750\n",
      "Epoch 8/10\n",
      "800/800 [==============================] - 167s 209ms/step - loss: 0.0894 - acc: 0.9671 - val_loss: 0.2754 - val_acc: 0.9167\n",
      "Epoch 9/10\n",
      "800/800 [==============================] - 168s 210ms/step - loss: 0.0778 - acc: 0.9729 - val_loss: 0.2148 - val_acc: 0.9000\n",
      "Epoch 10/10\n",
      "800/800 [==============================] - 169s 212ms/step - loss: 0.0471 - acc: 0.9826 - val_loss: 0.4495 - val_acc: 0.8833\n"
     ]
    }
   ],
   "source": [
    "setup_to_transfer_learning(model,base_model)\n",
    "history = model.fit_generator(generator=train_generator,\n",
    "                    steps_per_epoch=800,\n",
    "                    epochs=BATCH_SIZE,\n",
    "                    validation_data=val_generator,\n",
    "                    validation_steps=12,\n",
    "                    class_weight='auto'\n",
    "                    )\n",
    "model.save(WEIGHTS_FINAL)\n",
    "\n",
    "#setup_to_fine_tune(model,base_model)\n",
    "#history = model.fit_generator(generator = train_generator,\n",
    "#                              steps_per_epoch = train_generator.samples // BATCH_SIZE,\n",
    "#                              epochs = 10,\n",
    "#                              validation_data = val_generator,\n",
    "#                              validation_steps = val_generator.samples // BATCH_SIZE,\n",
    "#                              class_weight='auto')\n",
    "#model.save(WEIGHTS_FINAL)"
   ]
  },
  {
   "cell_type": "code",
   "execution_count": 8,
   "metadata": {},
   "outputs": [
    {
     "data": {
      "image/png": "[encoded data removed]",
      "text/plain": [
       "<Figure size 432x288 with 1 Axes>"
      ]
     },
     "metadata": {
      "needs_background": "light"
     },
     "output_type": "display_data"
    },
    {
     "data": {
      "image/png": "[encoded data removed]",
      "text/plain": [
       "<Figure size 432x288 with 1 Axes>"
      ]
     },
     "metadata": {
      "needs_background": "light"
     },
     "output_type": "display_data"
    }
   ],
   "source": [
    "import matplotlib.pyplot as plt\n",
    "acc = history.history['acc']\n",
    "val_acc = history.history['val_acc']\n",
    "loss = history.history['loss']\n",
    "val_loss = history.history['val_loss']\n",
    "\n",
    "epochs = range(len(acc))\n",
    "\n",
    "plt.plot(epochs, acc, 'bo', label='Training acc')\n",
    "plt.plot(epochs, val_acc, 'b', label='Validation acc')\n",
    "plt.title('Training and validation accuracy')\n",
    "plt.legend()\n",
    "\n",
    "plt.figure()\n",
    "\n",
    "plt.plot(epochs, loss, 'bo', label='Training loss')\n",
    "plt.plot(epochs, val_loss, 'b', label='Validation loss')\n",
    "plt.title('Training and validation loss')\n",
    "plt.legend()\n",
    "\n",
    "plt.show()"
   ]
  },
  {
   "cell_type": "markdown",
   "metadata": {},
   "source": [
    "可以看到经过两个epoch的transfer learning后，验证集准确率达到89.1%。再经过两个epoch的fine tune后验证集准确率达96.88%。可以看到迁移学习的效果还是很好的。"
   ]
  },
  {
   "cell_type": "code",
   "execution_count": 7,
   "metadata": {},
   "outputs": [
    {
     "name": "stdout",
     "output_type": "stream",
     "text": [
      "Found 640 images belonging to 2 classes.\n",
      "test acc: 0.800000011920929\n"
     ]
    }
   ],
   "source": [
    "test_datagen = ImageDataGenerator(rescale=1./255)\n",
    "test_generator = test_datagen.flow_from_directory(\n",
    "        DATASET_PATH + '/test',\n",
    "        target_size=IMAGE_SIZE,\n",
    "        batch_size=BATCH_SIZE)\n",
    "\n",
    "test_loss, test_acc = model.evaluate_generator(test_generator, steps=1)\n",
    "print('test acc:', test_acc)"
   ]
  },
  {
   "cell_type": "markdown",
   "metadata": {},
   "source": [
    "## 总结\n",
    "1. 学习了两种常用迁移学习方法（tranfer learning,fine tune)及训练技巧\n",
    "1. 学习了使用自己的数据样本进行训练\n",
    "1. 学习了加载Keras预置的经典模型\n",
    "1. 学习了如何在预置模型顶部添加新的层\n",
    "1. 学习了如何设置层的参数为不可训练\n",
    "\n",
    "\n",
    "\n",
    "### 参考\n",
    "> https://deeplearningsandbox.com/how-to-use-transfer-learning-and-fine-tuning-in-keras-and-tensorflow-to-build-an-image-recognition-94b0b02444f2"
   ]
  },
  {
   "cell_type": "code",
   "execution_count": null,
   "metadata": {},
   "outputs": [],
   "source": []
  }
 ],
 "metadata": {
  "kernelspec": {
   "display_name": "Python 3",
   "language": "python",
   "name": "python3"
  },
  "language_info": {
   "codemirror_mode": {
    "name": "ipython",
    "version": 3
   },
   "file_extension": ".py",
   "mimetype": "text/x-python",
   "name": "python",
   "nbconvert_exporter": "python",
   "pygments_lexer": "ipython3",
   "version": "3.7.3"
  }
 },
 "nbformat": 4,
 "nbformat_minor": 2
}
